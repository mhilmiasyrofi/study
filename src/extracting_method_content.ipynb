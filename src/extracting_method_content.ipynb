{
 "cells": [
  {
   "cell_type": "markdown",
   "metadata": {},
   "source": [
    "# Retrieve Method Content"
   ]
  },
  {
   "cell_type": "markdown",
   "metadata": {},
   "source": [
    "## 1. Retrieve method content from external file"
   ]
  },
  {
   "cell_type": "code",
   "execution_count": 1,
   "metadata": {},
   "outputs": [],
   "source": [
    "# use dummy variable \n",
    "# from study/labelled/p1/p1-data_original_dead_labelling.csv\n",
    "# line 6\n",
    "\n",
    "method_name = \"addGeneratedColumns\"\n",
    "class_name = \"org.apache.derby.impl.sql.compile.UpdateNode\"\n",
    "file_name = \"/\".join(class_name.split(\".\")) + \".java\"\n",
    "folder_name = \"/Users/mhilmiasyrofi/Documents/AI4SAWI/build-projects/project-repos/derby/derby-B/java/engine\"\n"
   ]
  },
  {
   "cell_type": "code",
   "execution_count": 2,
   "metadata": {},
   "outputs": [
    {
     "data": {
      "text/plain": [
       "\"private void    addGeneratedColumns\\n\\t(\\n\\t\\tTableDescriptor\\t\\t\\t\\tbaseTable,\\n        ResultSetNode               updateSet,\\n        ColumnDescriptorList    affectedGeneratedColumns,\\n        ColumnDescriptorList    addedGeneratedColumns\\n\\t)\\n\\t\\tthrows StandardException\\n\\t{\\n        ResultColumnList        updateColumnList = updateSet.getResultColumns();\\n        int                             count = updateColumnList.size();\\n        ColumnDescriptorList    generatedColumns = baseTable.getGeneratedColumns();\\n        int                                 generatedColumnCount = generatedColumns.size();\\n\\t\\tint\\t\\t                        columnCount = baseTable.getMaxColumnID();\\n        HashSet                     updatedColumns = new HashSet();\\n        UUID                            tableID = baseTable.getObjectID();\\n        \\n\\t\\tfor (int ix = 0; ix < count; ix++)\\n\\t\\t{\\n\\t\\t\\tString      name = ((ResultColumn)updateColumnList.elementAt( ix )).getName();\\n\\n            updatedColumns.add( name );\\n\\t\\t}\\n\\n        for ( int gcIdx = 0; gcIdx < generatedColumnCount; gcIdx++ )\\n        {\\n            ColumnDescriptor    gc = generatedColumns.elementAt( gcIdx );\\n            DefaultInfo             defaultInfo = gc.getDefaultInfo();\\n            String[]                       mentionedColumnNames = defaultInfo.getReferencedColumnNames();\\n            int                         mentionedColumnCount = mentionedColumnNames.length;\\n\\n            // handle the case of setting a generated column to the DEFAULT\\n            // literal\\n            if ( updatedColumns.contains( gc.getColumnName() ) ) { affectedGeneratedColumns.add( tableID, gc ); }\\n\\n            // figure out if this generated column is affected by the\\n            // update\\n            for ( int mcIdx = 0; mcIdx < mentionedColumnCount; mcIdx++ )\\n            {\\n                String                      mentionedColumnName = mentionedColumnNames[ mcIdx ];\\n\\n                if ( updatedColumns.contains( mentionedColumnName ) )\\n                {\\n                    // Yes, we are updating one of the columns mentioned in\\n                    // this generation clause.\\n                    affectedGeneratedColumns.add( tableID, gc );\\n                    \\n                    // If the generated column isn't in the update list yet,\\n                    // add it.\\n                    if ( !updatedColumns.contains( gc.getColumnName() ) )\\n                    {\\n                        addedGeneratedColumns.add( tableID, gc );\\n                        \\n                        // we will fill in the real value later on in parseAndBindGenerationClauses();\\n                        ValueNode       dummy = (ValueNode) getNodeFactory().getNode\\n                            ( C_NodeTypes.UNTYPED_NULL_CONSTANT_NODE, getContextManager());\\n                       ResultColumn    newResultColumn = (ResultColumn) getNodeFactory().getNode\\n                            ( C_NodeTypes.RESULT_COLUMN, gc.getType(), dummy, getContextManager());\\n                        newResultColumn.setColumnDescriptor( baseTable, gc );\\n                        newResultColumn.setName( gc.getColumnName() );\\n\\n                        updateColumnList.addResultColumn( newResultColumn );\\n                    }\\n                    \\n                    break;\\n                }\\n            }   // done looping through mentioned columns\\n\\n        }   // done looping through generated columns\\n    }\""
      ]
     },
     "execution_count": 2,
     "metadata": {},
     "output_type": "execute_result"
    }
   ],
   "source": [
    "import os\n",
    "from tree_sitter import Language, Parser\n",
    "\n",
    "Language.build_library(\n",
    "    # Store the library in the `build` directory\n",
    "    'build/my-languages.so',\n",
    "\n",
    "    # Include one or more languages\n",
    "    [\n",
    "        '/Users/mhilmiasyrofi/Documents/AI4SAWI/tree-sitter-java'\n",
    "    ]\n",
    ")\n",
    "\n",
    "\n",
    "LANGUAGE = Language('build/my-languages.so', 'java')\n",
    "\n",
    "parser = Parser()\n",
    "parser.set_language(LANGUAGE)\n",
    "\n",
    "\n",
    "def match_method_name_file(file_path, target_method_name):\n",
    "    with open(file_path) as infile:\n",
    "        code = infile.read()\n",
    "\n",
    "    code_bytes = bytes(code, 'utf-8')\n",
    "    tree = parser.parse(code_bytes)\n",
    "\n",
    "    query = LANGUAGE.query(\"\"\"\n",
    "    (method_declaration \n",
    "      name: (identifier) \n",
    "      body: (block) \n",
    "    ) @method_decl\n",
    "    \"\"\")\n",
    "\n",
    "    captures = query.captures(tree.root_node)\n",
    "\n",
    "    for capture in captures:\n",
    "        node, node_type = capture\n",
    "        name_node = node.child_by_field_name('name')\n",
    "\n",
    "        method_name = code_bytes[name_node.start_byte:name_node.end_byte].decode(\n",
    "            'utf8')\n",
    "        if method_name == target_method_name:\n",
    "            node_text = code_bytes[node.start_byte:node.end_byte].decode(\n",
    "                'utf8')\n",
    "            # print(method_name, node_text)\n",
    "            return node_text\n",
    "\n",
    "\n",
    "file_path = os.path.join(folder_name, file_name)\n",
    "\n",
    "match_method_name_file(file_path, method_name)\n"
   ]
  },
  {
   "cell_type": "markdown",
   "metadata": {},
   "source": [
    "## 2. Retrieve method content from external file\n"
   ]
  },
  {
   "cell_type": "code",
   "execution_count": 3,
   "metadata": {},
   "outputs": [
    {
     "data": {
      "text/html": [
       "<div>\n",
       "<style scoped>\n",
       "    .dataframe tbody tr th:only-of-type {\n",
       "        vertical-align: middle;\n",
       "    }\n",
       "\n",
       "    .dataframe tbody tr th {\n",
       "        vertical-align: top;\n",
       "    }\n",
       "\n",
       "    .dataframe thead th {\n",
       "        text-align: right;\n",
       "    }\n",
       "</style>\n",
       "<table border=\"1\" class=\"dataframe\">\n",
       "  <thead>\n",
       "    <tr style=\"text-align: right;\">\n",
       "      <th></th>\n",
       "      <th>warning id</th>\n",
       "      <th>project</th>\n",
       "      <th>bug_pattern</th>\n",
       "      <th>commit</th>\n",
       "      <th>last_commit_checked</th>\n",
       "      <th>?</th>\n",
       "      <th>bug pattern category</th>\n",
       "      <th>package</th>\n",
       "      <th>class</th>\n",
       "      <th>field</th>\n",
       "      <th>...</th>\n",
       "      <th>type</th>\n",
       "      <th>expr</th>\n",
       "      <th>idents</th>\n",
       "      <th>start_line</th>\n",
       "      <th>end_line</th>\n",
       "      <th>label (automatically determined)</th>\n",
       "      <th>commit url</th>\n",
       "      <th>commit url (of the version compared to, if closed)</th>\n",
       "      <th>code (if open)</th>\n",
       "      <th>label</th>\n",
       "    </tr>\n",
       "  </thead>\n",
       "  <tbody>\n",
       "    <tr>\n",
       "      <th>0</th>\n",
       "      <td>17</td>\n",
       "      <td>derby</td>\n",
       "      <td>DM_BOXED_PRIMITIVE_TOSTRING</td>\n",
       "      <td>A</td>\n",
       "      <td>last</td>\n",
       "      <td>NaN</td>\n",
       "      <td>PERFORMANCE</td>\n",
       "      <td>org.apache.derby.impl.drda</td>\n",
       "      <td>org.apache.derby.impl.drda.NetworkServerContro...</td>\n",
       "      <td>NaN</td>\n",
       "      <td>...</td>\n",
       "      <td>NaN</td>\n",
       "      <td>consolePropertyMessage(\"DRDA_InvalidValue.U\", ...</td>\n",
       "      <td>NaN</td>\n",
       "      <td>3743</td>\n",
       "      <td>3743</td>\n",
       "      <td>close</td>\n",
       "      <td>https://github.com/apache/derby/tree/9495437c8...</td>\n",
       "      <td>https://github.com/apache/derby/tree/33427bdb9...</td>\n",
       "      <td>NaN</td>\n",
       "      <td>close</td>\n",
       "    </tr>\n",
       "    <tr>\n",
       "      <th>1</th>\n",
       "      <td>40</td>\n",
       "      <td>derby</td>\n",
       "      <td>DM_BOXED_PRIMITIVE_TOSTRING</td>\n",
       "      <td>A</td>\n",
       "      <td>last</td>\n",
       "      <td>NaN</td>\n",
       "      <td>PERFORMANCE</td>\n",
       "      <td>org.apache.derby.impl.drda</td>\n",
       "      <td>org.apache.derby.impl.drda.NetworkServerContro...</td>\n",
       "      <td>NaN</td>\n",
       "      <td>...</td>\n",
       "      <td>NaN</td>\n",
       "      <td>retval.put(Property.DRDA_PROP_PORTNUMBER, new ...</td>\n",
       "      <td>NaN</td>\n",
       "      <td>3893</td>\n",
       "      <td>3893</td>\n",
       "      <td>close</td>\n",
       "      <td>https://github.com/apache/derby/tree/9495437c8...</td>\n",
       "      <td>https://github.com/apache/derby/tree/33427bdb9...</td>\n",
       "      <td>NaN</td>\n",
       "      <td>close</td>\n",
       "    </tr>\n",
       "    <tr>\n",
       "      <th>2</th>\n",
       "      <td>133</td>\n",
       "      <td>derby</td>\n",
       "      <td>DM_BOXED_PRIMITIVE_TOSTRING</td>\n",
       "      <td>A</td>\n",
       "      <td>last</td>\n",
       "      <td>NaN</td>\n",
       "      <td>PERFORMANCE</td>\n",
       "      <td>org.apache.derby.impl.drda</td>\n",
       "      <td>org.apache.derby.impl.drda.NetworkServerContro...</td>\n",
       "      <td>NaN</td>\n",
       "      <td>...</td>\n",
       "      <td>NaN</td>\n",
       "      <td>args[1] = new Integer(connNum).toString();</td>\n",
       "      <td>NaN</td>\n",
       "      <td>1314</td>\n",
       "      <td>1314</td>\n",
       "      <td>close</td>\n",
       "      <td>https://github.com/apache/derby/tree/9495437c8...</td>\n",
       "      <td>https://github.com/apache/derby/tree/33427bdb9...</td>\n",
       "      <td>NaN</td>\n",
       "      <td>close</td>\n",
       "    </tr>\n",
       "    <tr>\n",
       "      <th>3</th>\n",
       "      <td>247</td>\n",
       "      <td>derby</td>\n",
       "      <td>DM_BOXED_PRIMITIVE_TOSTRING</td>\n",
       "      <td>A</td>\n",
       "      <td>last</td>\n",
       "      <td>NaN</td>\n",
       "      <td>PERFORMANCE</td>\n",
       "      <td>org.apache.derby.impl.drda</td>\n",
       "      <td>org.apache.derby.impl.drda.NetworkServerContro...</td>\n",
       "      <td>NaN</td>\n",
       "      <td>...</td>\n",
       "      <td>NaN</td>\n",
       "      <td>consolePropertyMessage(\"DRDA_ConnectionTested....</td>\n",
       "      <td>NaN</td>\n",
       "      <td>2264</td>\n",
       "      <td>2264</td>\n",
       "      <td>close</td>\n",
       "      <td>https://github.com/apache/derby/tree/9495437c8...</td>\n",
       "      <td>https://github.com/apache/derby/tree/33427bdb9...</td>\n",
       "      <td>NaN</td>\n",
       "      <td>close</td>\n",
       "    </tr>\n",
       "    <tr>\n",
       "      <th>4</th>\n",
       "      <td>332</td>\n",
       "      <td>derby</td>\n",
       "      <td>DM_BOXED_PRIMITIVE_TOSTRING</td>\n",
       "      <td>A</td>\n",
       "      <td>last</td>\n",
       "      <td>NaN</td>\n",
       "      <td>PERFORMANCE</td>\n",
       "      <td>org.apache.derby.client.am</td>\n",
       "      <td>org.apache.derby.client.am.ColumnMetaData</td>\n",
       "      <td>NaN</td>\n",
       "      <td>...</td>\n",
       "      <td>NaN</td>\n",
       "      <td>Integer</td>\n",
       "      <td>Integer,column,toString</td>\n",
       "      <td>835</td>\n",
       "      <td>835</td>\n",
       "      <td>close</td>\n",
       "      <td>https://github.com/apache/derby/tree/9495437c8...</td>\n",
       "      <td>https://github.com/apache/derby/tree/33427bdb9...</td>\n",
       "      <td>NaN</td>\n",
       "      <td>close</td>\n",
       "    </tr>\n",
       "  </tbody>\n",
       "</table>\n",
       "<p>5 rows × 21 columns</p>\n",
       "</div>"
      ],
      "text/plain": [
       "   warning id project                  bug_pattern commit last_commit_checked  \\\n",
       "0          17   derby  DM_BOXED_PRIMITIVE_TOSTRING      A                last   \n",
       "1          40   derby  DM_BOXED_PRIMITIVE_TOSTRING      A                last   \n",
       "2         133   derby  DM_BOXED_PRIMITIVE_TOSTRING      A                last   \n",
       "3         247   derby  DM_BOXED_PRIMITIVE_TOSTRING      A                last   \n",
       "4         332   derby  DM_BOXED_PRIMITIVE_TOSTRING      A                last   \n",
       "\n",
       "    ? bug pattern category                     package  \\\n",
       "0 NaN          PERFORMANCE  org.apache.derby.impl.drda   \n",
       "1 NaN          PERFORMANCE  org.apache.derby.impl.drda   \n",
       "2 NaN          PERFORMANCE  org.apache.derby.impl.drda   \n",
       "3 NaN          PERFORMANCE  org.apache.derby.impl.drda   \n",
       "4 NaN          PERFORMANCE  org.apache.derby.client.am   \n",
       "\n",
       "                                               class  field  ... type  \\\n",
       "0  org.apache.derby.impl.drda.NetworkServerContro...    NaN  ...  NaN   \n",
       "1  org.apache.derby.impl.drda.NetworkServerContro...    NaN  ...  NaN   \n",
       "2  org.apache.derby.impl.drda.NetworkServerContro...    NaN  ...  NaN   \n",
       "3  org.apache.derby.impl.drda.NetworkServerContro...    NaN  ...  NaN   \n",
       "4          org.apache.derby.client.am.ColumnMetaData    NaN  ...  NaN   \n",
       "\n",
       "                                                expr                   idents  \\\n",
       "0  consolePropertyMessage(\"DRDA_InvalidValue.U\", ...                      NaN   \n",
       "1  retval.put(Property.DRDA_PROP_PORTNUMBER, new ...                      NaN   \n",
       "2         args[1] = new Integer(connNum).toString();                      NaN   \n",
       "3  consolePropertyMessage(\"DRDA_ConnectionTested....                      NaN   \n",
       "4                                            Integer  Integer,column,toString   \n",
       "\n",
       "  start_line  end_line  label (automatically determined)  \\\n",
       "0       3743      3743                             close   \n",
       "1       3893      3893                             close   \n",
       "2       1314      1314                             close   \n",
       "3       2264      2264                             close   \n",
       "4        835       835                             close   \n",
       "\n",
       "                                          commit url  \\\n",
       "0  https://github.com/apache/derby/tree/9495437c8...   \n",
       "1  https://github.com/apache/derby/tree/9495437c8...   \n",
       "2  https://github.com/apache/derby/tree/9495437c8...   \n",
       "3  https://github.com/apache/derby/tree/9495437c8...   \n",
       "4  https://github.com/apache/derby/tree/9495437c8...   \n",
       "\n",
       "  commit url (of the version compared to, if closed) code (if open)  label  \n",
       "0  https://github.com/apache/derby/tree/33427bdb9...            NaN  close  \n",
       "1  https://github.com/apache/derby/tree/33427bdb9...            NaN  close  \n",
       "2  https://github.com/apache/derby/tree/33427bdb9...            NaN  close  \n",
       "3  https://github.com/apache/derby/tree/33427bdb9...            NaN  close  \n",
       "4  https://github.com/apache/derby/tree/33427bdb9...            NaN  close  \n",
       "\n",
       "[5 rows x 21 columns]"
      ]
     },
     "execution_count": 3,
     "metadata": {},
     "output_type": "execute_result"
    }
   ],
   "source": [
    "import pandas as pd\n",
    "import numpy as np\n",
    "\n",
    "fpath = \"/Users/mhilmiasyrofi/Documents/AI4SAWI/study/labelled/p1/p1-data_original_cast_labelling.csv\"\n",
    "\n",
    "df = pd.read_csv(fpath)\n",
    "df.head()"
   ]
  },
  {
   "cell_type": "code",
   "execution_count": 11,
   "metadata": {},
   "outputs": [
    {
     "data": {
      "text/plain": [
       "'https://raw.githubusercontent.com/apache/derby/9495437c8b640d689c8a67563097b86cb0cd6fca//java/drda/org/apache/derby/impl/drda/NetworkServerControlImpl.java'"
      ]
     },
     "execution_count": 11,
     "metadata": {},
     "output_type": "execute_result"
    }
   ],
   "source": [
    "github_url = df[\"commit url\"][0]\n",
    "method_name = df[\"method\"][0]\n",
    "\n",
    "\n",
    "def convert_github_url_into_raw_url(github_url):\n",
    "    github_url = github_url.split(\"#L\")[0]\n",
    "    raw_github_url = github_url.replace(\"github.com\", \"raw.githubusercontent.com\"). \\\n",
    "                        replace(\"/tree/\", \"/\")\n",
    "    return raw_github_url\n",
    "\n",
    "raw_github_url = convert_github_url_into_raw_url(github_url)\n",
    "raw_github_url\n"
   ]
  },
  {
   "cell_type": "code",
   "execution_count": 22,
   "metadata": {},
   "outputs": [
    {
     "data": {
      "text/plain": [
       "200"
      ]
     },
     "execution_count": 22,
     "metadata": {},
     "output_type": "execute_result"
    }
   ],
   "source": [
    "import requests\n",
    "\n",
    "requests.get(raw_github_url).status_code\n"
   ]
  },
  {
   "cell_type": "code",
   "execution_count": 40,
   "metadata": {},
   "outputs": [],
   "source": [
    "def retrieve_method_content(github_url, target_method_name):\n",
    "    raw_github_url = convert_github_url_into_raw_url(github_url)\n",
    "\n",
    "    response = requests.get(raw_github_url)\n",
    "\n",
    "    if response.status_code == 200 :\n",
    "        code_bytes = response.content\n",
    "    else :\n",
    "        print(\"Github URL: \", github_url)\n",
    "        print(\"Raw Github URL: \", raw_github_url)\n",
    "        # raise ValueError(\"No response from Github\")\n",
    "        return \"\"\n",
    "\n",
    "        ## found example code that return 404 not found\n",
    "        ## https://github.com/apache/cassandra/tree/4ed2234078c4d302c256332252a8ddd6ae345484//src/gen-java/org/apache/cassandra/cql/CqlParser.java#L3431\n",
    "\n",
    "    tree = parser.parse(code_bytes)\n",
    "\n",
    "    query = LANGUAGE.query(\"\"\"\n",
    "    (method_declaration \n",
    "      name: (identifier) \n",
    "      body: (block) \n",
    "    ) @method_decl\n",
    "    \"\"\")\n",
    "\n",
    "    captures = query.captures(tree.root_node)\n",
    "\n",
    "    for capture in captures:\n",
    "        node, node_type = capture\n",
    "        name_node = node.child_by_field_name('name')\n",
    "\n",
    "        method_name = code_bytes[name_node.start_byte:name_node.end_byte].decode(\n",
    "            'utf8')\n",
    "        if method_name == target_method_name:\n",
    "            node_text = code_bytes[node.start_byte:node.end_byte].decode(\n",
    "                'utf8')\n",
    "            # print(method_name, node_text)\n",
    "            return node_text\n",
    "\n",
    "    return \"\"\n"
   ]
  },
  {
   "cell_type": "code",
   "execution_count": 41,
   "metadata": {},
   "outputs": [
    {
     "data": {
      "text/plain": [
       "'private void setMaxThreads(int value) throws Exception\\n\\t{\\n\\t\\tif (value < MIN_MAXTHREADS)\\n\\t\\t\\tconsolePropertyMessage(\"DRDA_InvalidValue.U\", new String [] \\n\\t\\t\\t\\t{new Integer(value).toString(), \"maxthreads\"});\\n\\t\\tif (value == USE_DEFAULT)\\n\\t\\t\\tvalue = DEFAULT_MAXTHREADS;\\n\\t\\tsynchronized(threadsSync) {\\n\\t\\t\\tmaxThreads = value;\\n\\t\\t}\\n\\t}'"
      ]
     },
     "execution_count": 41,
     "metadata": {},
     "output_type": "execute_result"
    }
   ],
   "source": [
    "retrieve_method_content(github_url, method_name)"
   ]
  },
  {
   "cell_type": "code",
   "execution_count": 42,
   "metadata": {},
   "outputs": [
    {
     "name": "stdout",
     "output_type": "stream",
     "text": [
      "Github URL:  https://github.com/apache/cassandra/tree/4ed2234078c4d302c256332252a8ddd6ae345484//src/gen-java/org/apache/cassandra/cql/CqlParser.java#L3431\n",
      "Raw Github URL:  https://raw.githubusercontent.com/apache/cassandra/4ed2234078c4d302c256332252a8ddd6ae345484//src/gen-java/org/apache/cassandra/cql/CqlParser.java\n",
      "Github URL:  https://github.com/apache/cassandra/tree/69337a43670f71ae1fc55e23d6a9031230423900//src/gen-java/org/apache/cassandra/cql3/CqlParser.java#L5327\n",
      "Raw Github URL:  https://raw.githubusercontent.com/apache/cassandra/69337a43670f71ae1fc55e23d6a9031230423900//src/gen-java/org/apache/cassandra/cql3/CqlParser.java\n"
     ]
    }
   ],
   "source": [
    "df[\"method_content\"] = df.apply(\n",
    "    lambda x: retrieve_method_content(x[\"commit url\"], x[\"method\"]), axis=1)\n"
   ]
  },
  {
   "cell_type": "code",
   "execution_count": 44,
   "metadata": {},
   "outputs": [
    {
     "data": {
      "text/html": [
       "<div>\n",
       "<style scoped>\n",
       "    .dataframe tbody tr th:only-of-type {\n",
       "        vertical-align: middle;\n",
       "    }\n",
       "\n",
       "    .dataframe tbody tr th {\n",
       "        vertical-align: top;\n",
       "    }\n",
       "\n",
       "    .dataframe thead th {\n",
       "        text-align: right;\n",
       "    }\n",
       "</style>\n",
       "<table border=\"1\" class=\"dataframe\">\n",
       "  <thead>\n",
       "    <tr style=\"text-align: right;\">\n",
       "      <th></th>\n",
       "      <th>method</th>\n",
       "      <th>method_content</th>\n",
       "    </tr>\n",
       "  </thead>\n",
       "  <tbody>\n",
       "    <tr>\n",
       "      <th>0</th>\n",
       "      <td>setMaxThreads</td>\n",
       "      <td>private void setMaxThreads(int value) throws E...</td>\n",
       "    </tr>\n",
       "    <tr>\n",
       "      <th>1</th>\n",
       "      <td>getPropertyValues</td>\n",
       "      <td>Properties getPropertyValues()\\n\\t{\\n\\t\\tPrope...</td>\n",
       "    </tr>\n",
       "    <tr>\n",
       "      <th>2</th>\n",
       "      <td>consoleTraceMessage</td>\n",
       "      <td>private void consoleTraceMessage(int connNum, ...</td>\n",
       "    </tr>\n",
       "    <tr>\n",
       "      <th>3</th>\n",
       "      <td>executeWork</td>\n",
       "      <td>public void executeWork(int command) throws Ex...</td>\n",
       "    </tr>\n",
       "    <tr>\n",
       "      <th>4</th>\n",
       "      <td>assignColumnName</td>\n",
       "      <td>void assignColumnName(int column) {\\n        i...</td>\n",
       "    </tr>\n",
       "  </tbody>\n",
       "</table>\n",
       "</div>"
      ],
      "text/plain": [
       "                method                                     method_content\n",
       "0        setMaxThreads  private void setMaxThreads(int value) throws E...\n",
       "1    getPropertyValues  Properties getPropertyValues()\\n\\t{\\n\\t\\tPrope...\n",
       "2  consoleTraceMessage  private void consoleTraceMessage(int connNum, ...\n",
       "3          executeWork  public void executeWork(int command) throws Ex...\n",
       "4     assignColumnName  void assignColumnName(int column) {\\n        i..."
      ]
     },
     "execution_count": 44,
     "metadata": {},
     "output_type": "execute_result"
    }
   ],
   "source": [
    "df[[\"method\", \"method_content\"]].head()"
   ]
  },
  {
   "cell_type": "code",
   "execution_count": null,
   "metadata": {},
   "outputs": [],
   "source": []
  }
 ],
 "metadata": {
  "interpreter": {
   "hash": "aee8b7b246df8f9039afb4144a1f6fd8d2ca17a180786b69acc140d282b71a49"
  },
  "kernelspec": {
   "display_name": "Python 3.9.9 64-bit",
   "language": "python",
   "name": "python3"
  },
  "language_info": {
   "codemirror_mode": {
    "name": "ipython",
    "version": 3
   },
   "file_extension": ".py",
   "mimetype": "text/x-python",
   "name": "python",
   "nbconvert_exporter": "python",
   "pygments_lexer": "ipython3",
   "version": "3.9.9"
  },
  "orig_nbformat": 4
 },
 "nbformat": 4,
 "nbformat_minor": 2
}
